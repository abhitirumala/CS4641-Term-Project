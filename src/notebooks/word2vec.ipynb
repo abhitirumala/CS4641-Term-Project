{
  "nbformat": 4,
  "nbformat_minor": 0,
  "metadata": {
    "colab": {
      "name": "word2vec.ipynb",
      "provenance": [],
      "toc_visible": true
    },
    "kernelspec": {
      "name": "python3",
      "display_name": "Python 3"
    }
  },
  "cells": [
    {
      "cell_type": "markdown",
      "metadata": {
        "id": "x0Y1AtAUcut6"
      },
      "source": [
        "# Unsupervised Text Classification of Sarcastic Comments in Python\n",
        "\n",
        "Abhiram Tirumala, Rohith Sudhakar, Satvik Katla, Nevin Gilbert\n",
        "\n",
        "### Objective\n",
        "\n",
        "In this Notebook, we explore unsupervised text classification for the purposes of being able to develop a Machine Learning model to detect sarcasm in natural language."
      ]
    },
    {
      "cell_type": "code",
      "metadata": {
        "id": "jDktZTODHcTu",
        "outputId": "9ab51e86-5fdd-4afd-9afa-302bc2cd0633",
        "colab": {
          "base_uri": "https://localhost:8080/"
        }
      },
      "source": [
        "import numpy as np\n",
        "import pandas as pd\n",
        "import sklearn\n",
        "import matplotlib.pyplot as plt\n",
        "import string\n",
        "import multiprocessing\n",
        "from gensim.models import Word2Vec\n",
        "from gensim.models.doc2vec import Doc2Vec, TaggedDocument\n",
        "import spacy\n",
        "import nltk\n",
        "from nltk.tokenize import word_tokenize\n",
        "from nltk.corpus import stopwords\n",
        "from nltk.stem import WordNetLemmatizer\n",
        "from scipy import spatial\n",
        "nltk.download('stopwords')\n",
        "nltk.download('wordnet')"
      ],
      "execution_count": 2,
      "outputs": [
        {
          "output_type": "stream",
          "text": [
            "[nltk_data] Downloading package stopwords to /root/nltk_data...\n",
            "[nltk_data]   Package stopwords is already up-to-date!\n",
            "[nltk_data] Downloading package wordnet to /root/nltk_data...\n",
            "[nltk_data]   Package wordnet is already up-to-date!\n"
          ],
          "name": "stdout"
        },
        {
          "output_type": "execute_result",
          "data": {
            "text/plain": [
              "True"
            ]
          },
          "metadata": {
            "tags": []
          },
          "execution_count": 2
        }
      ]
    },
    {
      "cell_type": "markdown",
      "metadata": {
        "id": "Qp2ykCVTdFkG"
      },
      "source": [
        "## Dataset Preprocessing\n",
        "The dataset we will use is a compilation of both sarcastic and not sarcastic comments scraped from Reddit. This dataset was published under Kaggle and can be found here:\n",
        "\n",
        "https://www.kaggle.com/sachinichake/detect-sarcasm-in-comments?select=Train.csv\n",
        "\n",
        "Here we fetch the dataset from our public GitHub repository and store it as a Pandas DataFrame."
      ]
    },
    {
      "cell_type": "code",
      "metadata": {
        "id": "fgvoSIzyH3Fk",
        "outputId": "2acb85d3-bc6b-457a-a344-13fd39908d27",
        "colab": {
          "base_uri": "https://localhost:8080/",
          "height": 606
        }
      },
      "source": [
        "!wget https://raw.githubusercontent.com/abhitirumala/CS4641-Term-Project/master/datasets/detect_sarcasm_in_comments/Train.csv\n",
        "df = pd.read_csv('Train.csv')\n",
        "df"
      ],
      "execution_count": 3,
      "outputs": [
        {
          "output_type": "stream",
          "text": [
            "--2020-11-06 18:22:52--  https://raw.githubusercontent.com/abhitirumala/CS4641-Term-Project/master/datasets/detect_sarcasm_in_comments/Train.csv\n",
            "Resolving raw.githubusercontent.com (raw.githubusercontent.com)... 151.101.0.133, 151.101.64.133, 151.101.128.133, ...\n",
            "Connecting to raw.githubusercontent.com (raw.githubusercontent.com)|151.101.0.133|:443... connected.\n",
            "HTTP request sent, awaiting response... 200 OK\n",
            "Length: 3647830 (3.5M) [text/plain]\n",
            "Saving to: ‘Train.csv’\n",
            "\n",
            "Train.csv           100%[===================>]   3.48M  12.1MB/s    in 0.3s    \n",
            "\n",
            "2020-11-06 18:22:53 (12.1 MB/s) - ‘Train.csv’ saved [3647830/3647830]\n",
            "\n"
          ],
          "name": "stdout"
        },
        {
          "output_type": "execute_result",
          "data": {
            "text/html": [
              "<div>\n",
              "<style scoped>\n",
              "    .dataframe tbody tr th:only-of-type {\n",
              "        vertical-align: middle;\n",
              "    }\n",
              "\n",
              "    .dataframe tbody tr th {\n",
              "        vertical-align: top;\n",
              "    }\n",
              "\n",
              "    .dataframe thead th {\n",
              "        text-align: right;\n",
              "    }\n",
              "</style>\n",
              "<table border=\"1\" class=\"dataframe\">\n",
              "  <thead>\n",
              "    <tr style=\"text-align: right;\">\n",
              "      <th></th>\n",
              "      <th>ID</th>\n",
              "      <th>comment</th>\n",
              "      <th>date</th>\n",
              "      <th>down</th>\n",
              "      <th>parent_comment</th>\n",
              "      <th>score</th>\n",
              "      <th>top</th>\n",
              "      <th>topic</th>\n",
              "      <th>user</th>\n",
              "      <th>label</th>\n",
              "    </tr>\n",
              "  </thead>\n",
              "  <tbody>\n",
              "    <tr>\n",
              "      <th>0</th>\n",
              "      <td>uid_590555</td>\n",
              "      <td>Well, let's be honest here, they don't actuall...</td>\n",
              "      <td>2015-04</td>\n",
              "      <td>0</td>\n",
              "      <td>They should shut the fuck up and let the commu...</td>\n",
              "      <td>2</td>\n",
              "      <td>2</td>\n",
              "      <td>starcitizen</td>\n",
              "      <td>Combat_Wombatz</td>\n",
              "      <td>0</td>\n",
              "    </tr>\n",
              "    <tr>\n",
              "      <th>1</th>\n",
              "      <td>uid_671762</td>\n",
              "      <td>Well, I didn't need evidence to believe in com...</td>\n",
              "      <td>2016-12</td>\n",
              "      <td>-1</td>\n",
              "      <td>You need evidence to kill people? I thought we...</td>\n",
              "      <td>6</td>\n",
              "      <td>-1</td>\n",
              "      <td>EnoughCommieSpam</td>\n",
              "      <td>starkadd</td>\n",
              "      <td>1</td>\n",
              "    </tr>\n",
              "    <tr>\n",
              "      <th>2</th>\n",
              "      <td>uid_519689</td>\n",
              "      <td>Who does an \"official promo\" in 360p?</td>\n",
              "      <td>2013-11</td>\n",
              "      <td>0</td>\n",
              "      <td>2014 BMW S1000R: Official Promo</td>\n",
              "      <td>3</td>\n",
              "      <td>3</td>\n",
              "      <td>motorcycles</td>\n",
              "      <td>phybere</td>\n",
              "      <td>0</td>\n",
              "    </tr>\n",
              "    <tr>\n",
              "      <th>3</th>\n",
              "      <td>uid_788362</td>\n",
              "      <td>Grotto koth was the best</td>\n",
              "      <td>2015-09</td>\n",
              "      <td>0</td>\n",
              "      <td>Not really that memorable lol if you want memo...</td>\n",
              "      <td>2</td>\n",
              "      <td>2</td>\n",
              "      <td>hcfactions</td>\n",
              "      <td>m0xyMC</td>\n",
              "      <td>1</td>\n",
              "    </tr>\n",
              "    <tr>\n",
              "      <th>4</th>\n",
              "      <td>uid_299252</td>\n",
              "      <td>Neal's back baby</td>\n",
              "      <td>2015-11</td>\n",
              "      <td>0</td>\n",
              "      <td>James Neal hit on Zach Parise</td>\n",
              "      <td>-5</td>\n",
              "      <td>-5</td>\n",
              "      <td>hockey</td>\n",
              "      <td>Somuch101</td>\n",
              "      <td>1</td>\n",
              "    </tr>\n",
              "    <tr>\n",
              "      <th>...</th>\n",
              "      <td>...</td>\n",
              "      <td>...</td>\n",
              "      <td>...</td>\n",
              "      <td>...</td>\n",
              "      <td>...</td>\n",
              "      <td>...</td>\n",
              "      <td>...</td>\n",
              "      <td>...</td>\n",
              "      <td>...</td>\n",
              "      <td>...</td>\n",
              "    </tr>\n",
              "    <tr>\n",
              "      <th>14995</th>\n",
              "      <td>uid_845344</td>\n",
              "      <td>Well with a name like El Cubano I'm surprised ...</td>\n",
              "      <td>2015-01</td>\n",
              "      <td>0</td>\n",
              "      <td>There's two things you don't do in Florida. - ...</td>\n",
              "      <td>18</td>\n",
              "      <td>18</td>\n",
              "      <td>hockey</td>\n",
              "      <td>shutupisaac</td>\n",
              "      <td>0</td>\n",
              "    </tr>\n",
              "    <tr>\n",
              "      <th>14996</th>\n",
              "      <td>uid_757880</td>\n",
              "      <td>... This is a good point.</td>\n",
              "      <td>2014-04</td>\n",
              "      <td>0</td>\n",
              "      <td>Sounds like a pretty good overall summary of o...</td>\n",
              "      <td>6</td>\n",
              "      <td>6</td>\n",
              "      <td>hockey</td>\n",
              "      <td>em483</td>\n",
              "      <td>0</td>\n",
              "    </tr>\n",
              "    <tr>\n",
              "      <th>14997</th>\n",
              "      <td>uid_724706</td>\n",
              "      <td>Yep.</td>\n",
              "      <td>2015-09</td>\n",
              "      <td>0</td>\n",
              "      <td>I know the type you speak of. The \"die cis scu...</td>\n",
              "      <td>2</td>\n",
              "      <td>2</td>\n",
              "      <td>AskReddit</td>\n",
              "      <td>YoImAli</td>\n",
              "      <td>0</td>\n",
              "    </tr>\n",
              "    <tr>\n",
              "      <th>14998</th>\n",
              "      <td>uid_1006984</td>\n",
              "      <td>That's what the government WANTS you to believe!</td>\n",
              "      <td>2016-01</td>\n",
              "      <td>0</td>\n",
              "      <td>That there's A hidden cure for cancer but phar...</td>\n",
              "      <td>1</td>\n",
              "      <td>1</td>\n",
              "      <td>AskReddit</td>\n",
              "      <td>OhHiGCHQ</td>\n",
              "      <td>1</td>\n",
              "    </tr>\n",
              "    <tr>\n",
              "      <th>14999</th>\n",
              "      <td>uid_723514</td>\n",
              "      <td>because Windows 10 has the glorious start menu...</td>\n",
              "      <td>2015-08</td>\n",
              "      <td>0</td>\n",
              "      <td>Windows 8(x) had more polish on launch than 10...</td>\n",
              "      <td>12</td>\n",
              "      <td>12</td>\n",
              "      <td>Windows10</td>\n",
              "      <td>thedonutman</td>\n",
              "      <td>1</td>\n",
              "    </tr>\n",
              "  </tbody>\n",
              "</table>\n",
              "<p>15000 rows × 10 columns</p>\n",
              "</div>"
            ],
            "text/plain": [
              "                ID  ... label\n",
              "0       uid_590555  ...     0\n",
              "1       uid_671762  ...     1\n",
              "2       uid_519689  ...     0\n",
              "3       uid_788362  ...     1\n",
              "4       uid_299252  ...     1\n",
              "...            ...  ...   ...\n",
              "14995   uid_845344  ...     0\n",
              "14996   uid_757880  ...     0\n",
              "14997   uid_724706  ...     0\n",
              "14998  uid_1006984  ...     1\n",
              "14999   uid_723514  ...     1\n",
              "\n",
              "[15000 rows x 10 columns]"
            ]
          },
          "metadata": {
            "tags": []
          },
          "execution_count": 3
        }
      ]
    },
    {
      "cell_type": "markdown",
      "metadata": {
        "id": "OqcDGA-pdumr"
      },
      "source": [
        "### Data Visualization\n",
        "labels are stored in a binary format where 1 represents a sarcastic comment, and 0 represents a non-sarcastic comment."
      ]
    },
    {
      "cell_type": "code",
      "metadata": {
        "id": "DLlHBcTf0uDW",
        "outputId": "65eadc3a-3e15-4ff8-97fb-5b6427a0e4cd",
        "colab": {
          "base_uri": "https://localhost:8080/",
          "height": 295
        }
      },
      "source": [
        "# Check the frequency of each label\n",
        "label1 = len(df[df['label'] == 1])\n",
        "label0 = len(df[df['label'] == 0])\n",
        "plt.bar(x=[1, 0], height=[label1, label0])\n",
        "plt.title(\"Distribution of Sarcastic vs Non-sarcastic\")\n",
        "plt.xlabel(\"Label\")\n",
        "plt.ylabel(\"Samples Count\")\n",
        "plt.show()"
      ],
      "execution_count": 4,
      "outputs": [
        {
          "output_type": "display_data",
          "data": {
            "image/png": "[encoded data removed]",
            "text/plain": [
              "<Figure size 432x288 with 1 Axes>"
            ]
          },
          "metadata": {
            "tags": [],
            "needs_background": "light"
          }
        }
      ]
    },
    {
      "cell_type": "markdown",
      "metadata": {
        "id": "6EA9do8NeAcs"
      },
      "source": [
        "Visualize the correlation between a sarcastic comment and the upvote score associated with it. There doesnt seem to be a correlation between these two features."
      ]
    },
    {
      "cell_type": "code",
      "metadata": {
        "id": "snaSRggz0wvW",
        "outputId": "fe62a85e-3b42-4d86-cc1d-9e0c1f065051",
        "colab": {
          "base_uri": "https://localhost:8080/",
          "height": 295
        }
      },
      "source": [
        "plt.scatter(df['score'], df['label'])\n",
        "plt.title(\"Distribution of Comment Score\")\n",
        "plt.xlabel(\"Comment Score (Upvotes)\")\n",
        "plt.ylabel(\"Label\")\n",
        "plt.show()"
      ],
      "execution_count": 5,
      "outputs": [
        {
          "output_type": "display_data",
          "data": {
            "image/png": "[encoded data removed]",
            "text/plain": [
              "<Figure size 432x288 with 1 Axes>"
            ]
          },
          "metadata": {
            "tags": [],
            "needs_background": "light"
          }
        }
      ]
    },
    {
      "cell_type": "markdown",
      "metadata": {
        "id": "RIyMzs5FefUU"
      },
      "source": [
        "Since no direct correlation between score and the label exists, we can drop it as an unecessary feature. Similarly, we drop the User ID, comment date, no. of downvotes, top, and the username as they are irrelevant features and/or are too difficult to accurately incorporate in the model."
      ]
    },
    {
      "cell_type": "code",
      "metadata": {
        "id": "WuI95oUrH4e_",
        "outputId": "3e65f2e0-c404-4abc-f3e2-e2a4e0ec6311",
        "colab": {
          "base_uri": "https://localhost:8080/",
          "height": 419
        }
      },
      "source": [
        "df = df.drop(columns=['ID', 'date', 'down', 'top', 'user'])\n",
        "df"
      ],
      "execution_count": 7,
      "outputs": [
        {
          "output_type": "execute_result",
          "data": {
            "text/html": [
              "<div>\n",
              "<style scoped>\n",
              "    .dataframe tbody tr th:only-of-type {\n",
              "        vertical-align: middle;\n",
              "    }\n",
              "\n",
              "    .dataframe tbody tr th {\n",
              "        vertical-align: top;\n",
              "    }\n",
              "\n",
              "    .dataframe thead th {\n",
              "        text-align: right;\n",
              "    }\n",
              "</style>\n",
              "<table border=\"1\" class=\"dataframe\">\n",
              "  <thead>\n",
              "    <tr style=\"text-align: right;\">\n",
              "      <th></th>\n",
              "      <th>comment</th>\n",
              "      <th>parent_comment</th>\n",
              "      <th>score</th>\n",
              "      <th>topic</th>\n",
              "      <th>label</th>\n",
              "    </tr>\n",
              "  </thead>\n",
              "  <tbody>\n",
              "    <tr>\n",
              "      <th>0</th>\n",
              "      <td>Well, let's be honest here, they don't actuall...</td>\n",
              "      <td>They should shut the fuck up and let the commu...</td>\n",
              "      <td>2</td>\n",
              "      <td>starcitizen</td>\n",
              "      <td>0</td>\n",
              "    </tr>\n",
              "    <tr>\n",
              "      <th>1</th>\n",
              "      <td>Well, I didn't need evidence to believe in com...</td>\n",
              "      <td>You need evidence to kill people? I thought we...</td>\n",
              "      <td>6</td>\n",
              "      <td>EnoughCommieSpam</td>\n",
              "      <td>1</td>\n",
              "    </tr>\n",
              "    <tr>\n",
              "      <th>2</th>\n",
              "      <td>Who does an \"official promo\" in 360p?</td>\n",
              "      <td>2014 BMW S1000R: Official Promo</td>\n",
              "      <td>3</td>\n",
              "      <td>motorcycles</td>\n",
              "      <td>0</td>\n",
              "    </tr>\n",
              "    <tr>\n",
              "      <th>3</th>\n",
              "      <td>Grotto koth was the best</td>\n",
              "      <td>Not really that memorable lol if you want memo...</td>\n",
              "      <td>2</td>\n",
              "      <td>hcfactions</td>\n",
              "      <td>1</td>\n",
              "    </tr>\n",
              "    <tr>\n",
              "      <th>4</th>\n",
              "      <td>Neal's back baby</td>\n",
              "      <td>James Neal hit on Zach Parise</td>\n",
              "      <td>-5</td>\n",
              "      <td>hockey</td>\n",
              "      <td>1</td>\n",
              "    </tr>\n",
              "    <tr>\n",
              "      <th>...</th>\n",
              "      <td>...</td>\n",
              "      <td>...</td>\n",
              "      <td>...</td>\n",
              "      <td>...</td>\n",
              "      <td>...</td>\n",
              "    </tr>\n",
              "    <tr>\n",
              "      <th>14995</th>\n",
              "      <td>Well with a name like El Cubano I'm surprised ...</td>\n",
              "      <td>There's two things you don't do in Florida. - ...</td>\n",
              "      <td>18</td>\n",
              "      <td>hockey</td>\n",
              "      <td>0</td>\n",
              "    </tr>\n",
              "    <tr>\n",
              "      <th>14996</th>\n",
              "      <td>... This is a good point.</td>\n",
              "      <td>Sounds like a pretty good overall summary of o...</td>\n",
              "      <td>6</td>\n",
              "      <td>hockey</td>\n",
              "      <td>0</td>\n",
              "    </tr>\n",
              "    <tr>\n",
              "      <th>14997</th>\n",
              "      <td>Yep.</td>\n",
              "      <td>I know the type you speak of. The \"die cis scu...</td>\n",
              "      <td>2</td>\n",
              "      <td>AskReddit</td>\n",
              "      <td>0</td>\n",
              "    </tr>\n",
              "    <tr>\n",
              "      <th>14998</th>\n",
              "      <td>That's what the government WANTS you to believe!</td>\n",
              "      <td>That there's A hidden cure for cancer but phar...</td>\n",
              "      <td>1</td>\n",
              "      <td>AskReddit</td>\n",
              "      <td>1</td>\n",
              "    </tr>\n",
              "    <tr>\n",
              "      <th>14999</th>\n",
              "      <td>because Windows 10 has the glorious start menu...</td>\n",
              "      <td>Windows 8(x) had more polish on launch than 10...</td>\n",
              "      <td>12</td>\n",
              "      <td>Windows10</td>\n",
              "      <td>1</td>\n",
              "    </tr>\n",
              "  </tbody>\n",
              "</table>\n",
              "<p>15000 rows × 5 columns</p>\n",
              "</div>"
            ],
            "text/plain": [
              "                                                 comment  ... label\n",
              "0      Well, let's be honest here, they don't actuall...  ...     0\n",
              "1      Well, I didn't need evidence to believe in com...  ...     1\n",
              "2                  Who does an \"official promo\" in 360p?  ...     0\n",
              "3                               Grotto koth was the best  ...     1\n",
              "4                                       Neal's back baby  ...     1\n",
              "...                                                  ...  ...   ...\n",
              "14995  Well with a name like El Cubano I'm surprised ...  ...     0\n",
              "14996                          ... This is a good point.  ...     0\n",
              "14997                                               Yep.  ...     0\n",
              "14998   That's what the government WANTS you to believe!  ...     1\n",
              "14999  because Windows 10 has the glorious start menu...  ...     1\n",
              "\n",
              "[15000 rows x 5 columns]"
            ]
          },
          "metadata": {
            "tags": []
          },
          "execution_count": 7
        }
      ]
    },
    {
      "cell_type": "markdown",
      "metadata": {
        "id": "vS31rNh7fB1n"
      },
      "source": [
        "### Text Preprocessing\n",
        "Here we define a function to get rid of punctuation and stop words in each comment. punctuation is often too difficult to incorporate in a model since they are often used in varying ways. Stop words are defined as words that contribute very little to the meaning and sentiment of a sentence, and can be removed in  order to save on computation power.\n",
        "\n",
        "Here we use the NLTK library's stop words list to clean each string."
      ]
    },
    {
      "cell_type": "code",
      "metadata": {
        "id": "HUkxetVAH8u1",
        "outputId": "dd606f58-4183-4b94-cb3b-74fda029a75b",
        "colab": {
          "base_uri": "https://localhost:8080/"
        }
      },
      "source": [
        "text = df['comment'].sample(1).values[0]\n",
        "text = \"Yay! That's amazing!\"\n",
        "print('\\nOriginal: ', text)\n",
        "\n",
        "punctuation = \"\\\"#$%&'()*+-/:;<=>?@[\\\\]^_`{|}~\"\n",
        "excluded = \"!,.\"\n",
        "\n",
        "def clean_string(text):\n",
        "    stemmer = WordNetLemmatizer()\n",
        "    nopunc = [char.lower() for char in text if char not in punctuation]\n",
        "    x = []\n",
        "    for char in nopunc:\n",
        "      if char in excluded:\n",
        "        x.append(\" \" + char)\n",
        "      else:\n",
        "        x.append(char)\n",
        "    nopunc = x\n",
        "    nopunc = ''.join(nopunc).split()\n",
        "    # nopunc =  [word.lower() for word in nopunc.split() if word not in stopwords.words('english')]\n",
        "    nopunc = [stemmer.lemmatize(word) for word in nopunc]\n",
        "    if nopunc == []:\n",
        "      return None\n",
        "    return nopunc\n",
        "\n",
        "print('Modified: ', clean_string(text))"
      ],
      "execution_count": 8,
      "outputs": [
        {
          "output_type": "stream",
          "text": [
            "\n",
            "Original:  Yay! That's amazing!\n",
            "Modified:  ['yay', '!', 'thats', 'amazing', '!']\n"
          ],
          "name": "stdout"
        }
      ]
    },
    {
      "cell_type": "markdown",
      "metadata": {
        "id": "MClZVI8n1N3L"
      },
      "source": [
        "## Sentence Embeddings/Vectorization\n",
        "\n",
        "One of the biggest challenges in Natural Language Processing is computer being able to understand human writing and speech. Many have thought of solutions to mitigate this concern, but perhaps the most effective way is the concept of Word/Sentence Embeddings. Essentially, Embeddings provide a way to convert a sentence  (which is a merely a series of words) into an N-dimensional vector representation. Using an algorithm like *Word2Vec* or *Doc2Vec*, word/sentence vectors can be trained and generated such that words and sentences that have similar sentiment have similar vector representations (which can be calculated through a simple cosine formula). "
      ]
    },
    {
      "cell_type": "markdown",
      "metadata": {
        "id": "bBWlLjlw342L"
      },
      "source": [
        "### Data Preparation for Gensim Doc2Vec\n",
        "\n",
        "Here, we prepare a sample our comment data to train a GenSim Doc2Vec model and use it to vectorize our entire dataset."
      ]
    },
    {
      "cell_type": "code",
      "metadata": {
        "id": "ThoDBZ99ICzU",
        "outputId": "18f104b8-3887-409d-88c6-a1447c419564",
        "colab": {
          "base_uri": "https://localhost:8080/"
        }
      },
      "source": [
        "comments_clean = df['comment'].apply(clean_string).dropna()\n",
        "# Use a subset of 4000 comments to train\n",
        "Xtrain = comments_clean.sample(n=4000).values\n",
        "tagged_data = [TaggedDocument(d, [i]) for i, d in enumerate(Xtrain)]\n",
        "tagged_data[:5]"
      ],
      "execution_count": 9,
      "outputs": [
        {
          "output_type": "execute_result",
          "data": {
            "text/plain": [
              "[TaggedDocument(words=['dont', 'go', 'bringing', 'your', 'well', 'thought', 'out', 'logic', 'into', 'this', 'thread', '.', '.', 'when', 'reddit', 'rage', ',', 'it', 'rage', 'united', '.'], tags=[0]),\n",
              " TaggedDocument(words=['consider', 'this', 'what', 'if', 'you', 'couldnt', 'convince', 'someone', 'to', 'stop', 'believing', 'in', 'god', ',', 'but', 'you', 'could', 'convince', 'them', 'to', 'stop', 'believing', 'god', 'want', 'them', 'to', 'treat', 'people', 'like', 'shit'], tags=[1]),\n",
              " TaggedDocument(words=['damn', ',', 'murray', 'throwing', 'to', 'aj', 'green', 'again', 'that', 'just', 'isnt', 'fair'], tags=[2]),\n",
              " TaggedDocument(words=['hell', 'yes', ',', 'when', 'going', 'out', 'for', 'a', 'steak', 'is', 'normal', 'and', 'not', 'a', 'very', 'rare', 'luxurious', 'treat', ',', 'ill', 'know', 'im', 'doing', 'really', 'damn', 'well', 'for', 'myself', '.'], tags=[3]),\n",
              " TaggedDocument(words=['yea', ',', 'ddosing', 'is', 'a', 'bad', 'a', 'killing', 'someone'], tags=[4])]"
            ]
          },
          "metadata": {
            "tags": []
          },
          "execution_count": 9
        }
      ]
    },
    {
      "cell_type": "markdown",
      "metadata": {
        "id": "g_t5boxm38hR"
      },
      "source": [
        "### Model Training\n",
        "\n",
        "We train our model to vectorize our comments into a 200 x 1 vector. After training a simple neural network, we able to determine vectors for any sentence we provide to the model. This will be used to convert our entire comment dataset for unsupervised learning."
      ]
    },
    {
      "cell_type": "code",
      "metadata": {
        "id": "Juneo-LVJ6nJ"
      },
      "source": [
        "model = Doc2Vec(dm=0, vector_size=400, window=15, hs=0, negative=5,\n",
        "                min_count=5, dbow_words=1, sample=1e-5,\n",
        "                workers=multiprocessing.cpu_count()-1)\n",
        "model.build_vocab(tagged_data)\n",
        "model.train(tagged_data, total_examples=model.corpus_count, epochs=500)\n",
        "# model.wv.vocab"
      ],
      "execution_count": 10,
      "outputs": []
    },
    {
      "cell_type": "markdown",
      "metadata": {
        "id": "c1FT2t3f5Ddq"
      },
      "source": [
        "Provided is an example of a sentence embedding of the phrase \"violent means to destroy the organization.\""
      ]
    },
    {
      "cell_type": "code",
      "metadata": {
        "id": "uep0RLn3Kmd6",
        "outputId": "e2598a64-89ae-495f-f46c-29c4f71a3819",
        "colab": {
          "base_uri": "https://localhost:8080/"
        }
      },
      "source": [
        "print(model.infer_vector(['violent', 'means', 'to', 'destroy', 'the','organization']))"
      ],
      "execution_count": 11,
      "outputs": [
        {
          "output_type": "stream",
          "text": [
            "[ 5.57227731e-02  4.36199792e-02  1.36682494e-02 -8.64162948e-03\n",
            "  7.23028323e-03 -1.12451485e-03  4.48717475e-02 -5.73232165e-03\n",
            "  1.84041318e-02  1.05078835e-02 -7.25996564e-04 -3.75867561e-02\n",
            "  4.65361327e-02  5.76509349e-02  1.65221933e-02  3.44471424e-03\n",
            " -2.98186131e-02  2.73290165e-02  6.89762994e-04  8.90335534e-03\n",
            "  1.12840487e-03 -2.53345631e-03 -7.60449981e-03  2.50779744e-02\n",
            " -5.35327103e-03 -1.24037033e-03 -2.05105226e-02  1.19001279e-02\n",
            " -6.53318013e-04  1.99889597e-02  1.31335817e-02  2.86385287e-02\n",
            " -3.21284868e-02 -2.55808863e-03  4.01575714e-02 -2.63194479e-02\n",
            " -6.05307240e-03 -2.69372892e-02  2.11126711e-02 -7.03673949e-03\n",
            " -4.19853866e-04  4.30812826e-03 -4.11134660e-02  1.24799705e-03\n",
            "  4.09875624e-03 -4.07606550e-02  2.55087540e-02  9.98792797e-03\n",
            " -3.65615413e-02  8.36105645e-03  3.99589464e-02 -4.31554802e-02\n",
            " -1.06964838e-02 -2.61084642e-02 -1.28854280e-02  7.61315459e-03\n",
            "  5.98836341e-04 -1.84168164e-02 -5.19423634e-02  3.79303098e-02\n",
            " -4.10399772e-02 -1.23101808e-02  3.31164151e-03 -3.86609370e-03\n",
            " -2.21246592e-04 -3.34282726e-04  1.01968981e-02 -4.46447581e-02\n",
            " -6.13005199e-02  1.83301065e-02  2.25079171e-02 -7.67597323e-03\n",
            "  2.37921719e-02  4.79838811e-02  8.19356646e-03 -2.77848095e-02\n",
            "  1.30251199e-02  9.84322932e-03  1.65918078e-02 -1.88849401e-02\n",
            " -1.35138342e-02 -3.77549492e-02  1.38259688e-02 -4.49175946e-03\n",
            " -1.27154740e-03  2.14906689e-02 -1.71459708e-02  7.92811438e-03\n",
            "  2.09386479e-02  1.31563162e-02 -1.03322789e-02  1.91214066e-02\n",
            " -2.01832391e-02  3.52603896e-03 -2.55603455e-02 -3.94859025e-03\n",
            " -2.98553947e-02  4.22493927e-03 -9.67378076e-03 -1.91080403e-02\n",
            "  5.82904136e-03 -1.38046863e-02  5.45132607e-02 -1.46914022e-02\n",
            "  6.45522214e-03  1.54030360e-02 -4.60902089e-03 -3.61315943e-02\n",
            " -4.87670340e-02 -2.46787593e-02  4.14613914e-03 -2.08519287e-02\n",
            " -2.79530566e-02 -3.23112719e-02  4.17450555e-02 -1.42580848e-02\n",
            " -2.12048087e-02 -2.19902694e-02 -3.39959599e-02  4.71382588e-03\n",
            "  4.73774821e-02 -2.75996905e-02  6.55254629e-03  2.37768586e-03\n",
            "  3.15473117e-02  1.60608115e-03  1.49182314e-02 -1.54511537e-02\n",
            "  8.68570805e-03  9.46691167e-03 -4.20376137e-02  2.35830862e-02\n",
            "  2.38662194e-02 -2.05907896e-02 -1.70949511e-02 -6.68096077e-03\n",
            "  5.60367946e-04  3.59295979e-02 -1.49447061e-02 -1.20727587e-02\n",
            "  9.30136722e-03  1.68415951e-03  7.18922354e-04 -9.55719501e-03\n",
            " -5.20273410e-02  4.21443693e-02 -1.57799181e-02 -5.37938625e-03\n",
            " -5.82500035e-03  1.80071779e-02  3.76966447e-02 -1.50667056e-02\n",
            " -1.23307249e-02 -1.54739469e-02 -3.22816707e-02 -5.17522823e-03\n",
            "  1.93719566e-02 -2.63540773e-03 -3.54546048e-02  1.58624686e-02\n",
            "  7.19478447e-03  2.46896502e-02 -9.00708605e-03  3.32817920e-02\n",
            "  3.24620008e-02  2.93681324e-02 -2.05639638e-02  3.52590717e-02\n",
            " -1.03261331e-02  1.08713387e-02  1.15406998e-02 -3.27844545e-02\n",
            "  3.06417607e-02  2.79672891e-02 -3.42392549e-02 -1.66563168e-02\n",
            " -1.13369031e-02  7.85297598e-05 -1.97401829e-02 -4.13913454e-04\n",
            "  4.52576391e-03  5.81718283e-04 -2.48128306e-02 -7.68128491e-04\n",
            "  3.01703438e-02 -2.98645366e-02 -2.66799275e-02  2.35945936e-02\n",
            " -2.02623457e-02 -8.25891923e-03 -1.83845125e-02  1.09741595e-02\n",
            "  5.30508580e-03 -1.85193866e-02 -7.12071452e-03  3.21129002e-02\n",
            " -1.16278538e-02  2.84295790e-02 -3.20489220e-02 -4.36643474e-02\n",
            " -3.48278694e-02 -9.09526367e-03  2.24541184e-02 -1.56010399e-02\n",
            " -2.00280938e-02  5.70460185e-02  9.62994003e-04 -4.06750031e-02\n",
            " -9.30061843e-03  1.15016801e-03  3.16258483e-02  6.92794146e-03\n",
            " -2.94522792e-02  2.45639887e-02 -5.36676235e-02  2.54858881e-02\n",
            " -2.29072906e-02 -4.71777432e-02  1.06327096e-02 -2.41856631e-02\n",
            "  1.07313925e-02 -8.78700637e-04  1.33111412e-02  3.20805386e-02\n",
            " -1.55024165e-02 -4.34926245e-03 -1.76664386e-02 -8.90227966e-04\n",
            "  3.32558975e-02  4.24401835e-03 -3.87530029e-02  2.02373508e-02\n",
            "  1.80952344e-02  1.80390105e-02 -9.48615279e-03  3.81359085e-02\n",
            " -7.75904255e-03  5.73601108e-03 -1.09613324e-02  1.63123459e-02\n",
            "  1.95541047e-02  3.09668109e-02  7.95917492e-03 -1.71164274e-02\n",
            " -4.36799880e-03  1.00375442e-02 -4.71687913e-02 -2.08666474e-02\n",
            "  1.19275763e-03  5.44290021e-02 -2.25297883e-02  1.79293398e-02\n",
            " -4.30254513e-05 -1.77793596e-02 -1.29704294e-03 -3.25449966e-02\n",
            " -2.26933230e-03 -1.08346194e-02  1.37366215e-03 -2.42767874e-02\n",
            "  9.30240564e-03  1.89919397e-02  3.08069028e-02 -1.72789767e-02\n",
            "  1.79639459e-02 -3.05875447e-02 -2.28744764e-02  8.65722913e-03\n",
            "  6.38869852e-02 -4.09555882e-02  1.35792084e-02  1.24636397e-03\n",
            "  4.42266650e-03  2.93311123e-02 -1.88177302e-02 -1.24760414e-03\n",
            " -3.17401104e-02 -1.39257787e-02 -2.34524924e-02 -7.86112435e-03\n",
            " -1.28414789e-02 -1.50332898e-02  4.80896384e-02 -9.92360618e-03\n",
            " -3.26211154e-02 -3.79154063e-03  1.59622151e-02  5.35925105e-02\n",
            "  5.69777470e-03 -1.21393539e-02 -2.04705819e-02  8.27652495e-03\n",
            " -9.38087516e-03  3.25889029e-02  3.68587440e-03 -3.91996391e-02\n",
            "  8.88673123e-03 -1.69612619e-03  5.51395118e-03  1.89424530e-02\n",
            "  2.54496280e-02 -1.76919866e-02 -2.55565867e-02  1.16292213e-03\n",
            "  1.70829836e-02  4.21904551e-04 -3.16147669e-03 -6.36384881e-04\n",
            "  4.69450429e-02  2.05878206e-02  6.29057456e-03  1.39658535e-02\n",
            "  5.17215172e-04 -3.93645577e-02 -1.68604981e-02 -2.61136089e-02\n",
            " -1.61206431e-03 -1.09611265e-02 -1.45285781e-02  2.67313030e-02\n",
            "  2.57035345e-03  2.58301497e-02  3.51426750e-02 -2.02279463e-02\n",
            " -3.03714424e-02 -4.07867543e-02  6.01229072e-03  2.29863469e-02\n",
            "  4.00098506e-03 -1.28952079e-02  3.25084217e-02 -2.22811718e-02\n",
            "  1.53885325e-02 -9.98047180e-03 -4.81212288e-02  2.91623501e-03\n",
            "  1.31350327e-02 -1.24424789e-02 -3.41069661e-02  5.61581785e-03\n",
            " -3.51442471e-02 -3.90649810e-02 -1.24698773e-03 -2.76094563e-02\n",
            "  1.03643183e-02 -6.49095476e-02  7.10906414e-03  6.23748600e-02\n",
            " -7.75695359e-03  2.38636248e-02 -3.65157016e-02 -6.59441436e-03\n",
            " -1.83841016e-03  3.56352217e-02  1.62657612e-04 -5.27137145e-02\n",
            " -5.51052727e-02 -2.88956380e-03 -4.79350276e-02  3.33868377e-02\n",
            "  4.43604216e-03  1.07985325e-02  2.09494238e-03  6.83968235e-03\n",
            " -1.73007380e-02 -2.87069444e-04  1.92961097e-02 -2.47906148e-02\n",
            "  1.67340622e-03 -8.35534930e-03  3.29158194e-02  4.19728868e-02\n",
            "  1.69339660e-03  2.76658759e-02 -1.19847283e-02  5.76721318e-03\n",
            "  3.08684111e-02 -1.89553313e-02 -1.41417384e-02 -2.06656530e-02\n",
            " -2.15243176e-02  2.60173008e-02  7.04403315e-03 -2.07758602e-02\n",
            "  2.01400947e-02 -5.75017408e-02  4.56063543e-03  4.23481651e-02\n",
            "  5.85448146e-02 -2.07726043e-02  2.17743386e-02  2.80588306e-02\n",
            "  6.42160326e-03  3.09087243e-02 -4.95601073e-03  2.59517450e-02\n",
            " -2.08795816e-02  1.67106139e-03 -3.63452807e-02 -8.16933461e-04]\n"
          ],
          "name": "stdout"
        }
      ]
    },
    {
      "cell_type": "markdown",
      "metadata": {
        "id": "64rnk6cu5RXS"
      },
      "source": [
        "After training the model, we infer a vector for each comment in the preprocessed dataset."
      ]
    },
    {
      "cell_type": "code",
      "metadata": {
        "id": "WEKYN-6MS2kG",
        "outputId": "03662c14-8820-4131-d096-ee7e2595f822",
        "colab": {
          "base_uri": "https://localhost:8080/"
        }
      },
      "source": [
        "comment_embeddings = np.array([model.infer_vector(sent) for sent in comments_clean.values])\n",
        "comment_embeddings.shape"
      ],
      "execution_count": 12,
      "outputs": [
        {
          "output_type": "execute_result",
          "data": {
            "text/plain": [
              "(14995, 400)"
            ]
          },
          "metadata": {
            "tags": []
          },
          "execution_count": 12
        }
      ]
    },
    {
      "cell_type": "markdown",
      "metadata": {
        "id": "WhEDlZeC7Zns"
      },
      "source": [
        "### Correlation Between Comments and Parent Comments\n",
        "\n",
        "As a side exploration, we tried to find a correlation between the similarity of a reddit comment and the parent comment associated with it. In this 5 comment sample, we are unable to determine any immediate correlation, but perhaps which more analysis, we may find some more itneresting results."
      ]
    },
    {
      "cell_type": "code",
      "metadata": {
        "id": "zoWNokMbBWOH",
        "outputId": "75fbd64f-af60-4fc7-df74-6d5b01b4ec86",
        "colab": {
          "base_uri": "https://localhost:8080/"
        }
      },
      "source": [
        "com_sample = df.sample(5).values\n",
        "\n",
        "for row in com_sample:\n",
        "  com, par_com, label = row[[0, 1, -1]]\n",
        "  print(\"\\nComment:\", com)\n",
        "  print(\"Parent Comment:\", par_com)\n",
        "  print(\"Sarcastic:\", label)\n",
        "  com, par_com = clean_string(com), clean_string(par_com)\n",
        "\n",
        "\n",
        "  vec1 = model.infer_vector(com)\n",
        "  vec2 = model.infer_vector(par_com)\n",
        "\n",
        "  similarity = spatial.distance.cosine(vec1, vec2)\n",
        "  print(\"Approximate Similarity:\", 1 - similarity)"
      ],
      "execution_count": 13,
      "outputs": [
        {
          "output_type": "stream",
          "text": [
            "\n",
            "Comment: More importantly, how do I get MY son into pirates?\n",
            "Parent Comment: My two year old son is into pirates, so for his birthday I built him a cannon complete with an android app to simulate lighting the fuse and firing the cannonball.\n",
            "Sarcastic: 0\n",
            "Approximate Similarity: 0.5940667390823364\n",
            "\n",
            "Comment: It's their job, would it be any better if they went about it with grim faces?\n",
            "Parent Comment: Not to be spoil sports here but assembly line ones atleast don't have salivating humans getting a kick out of killing the animals.\n",
            "Sarcastic: 0\n",
            "Approximate Similarity: 0.23678329586982727\n",
            "\n",
            "Comment: Would love one, buddy, pretty pretty please!\n",
            "Parent Comment: I got 11 grombrindal the white dwarf keys\n",
            "Sarcastic: 0\n",
            "Approximate Similarity: 0.40393954515457153\n",
            "\n",
            "Comment: So sorry single white mom just trying to pay the bills and keep food on the table, your free ride is over.\n",
            "Parent Comment: SJW refuses to tip white waiters\n",
            "Sarcastic: 1\n",
            "Approximate Similarity: 0.3915777802467346\n",
            "\n",
            "Comment: I'd turn over that 1,000 kilos of cocaine to the police.\n",
            "Parent Comment: What would you do if you found 10,000 kilos of cocaine?\n",
            "Sarcastic: 0\n",
            "Approximate Similarity: 0.27277007699012756\n"
          ],
          "name": "stdout"
        }
      ]
    },
    {
      "cell_type": "markdown",
      "metadata": {
        "id": "w_gZg0-65cbs"
      },
      "source": [
        "## Unsupervised Learning (KMeans Clustering)\n",
        "\n",
        "In our unsupervised model, we intend to classify each comment into clusters representing the similarity comments. For this, we use the KMeans Clustering Algorithm implementation in the *SciKit-Learn* Machine Learning library.\n",
        "\n",
        "Using the sentence embeddings generated earlier, our goal in this KMeans analysis is to cluster comments by sentiment simialrity to find a correlation between cluster assignment and whether or not the comment was sarcastic."
      ]
    },
    {
      "cell_type": "code",
      "metadata": {
        "id": "hdWPYHucUIU0"
      },
      "source": [
        "from sklearn.cluster import KMeans"
      ],
      "execution_count": 16,
      "outputs": []
    },
    {
      "cell_type": "markdown",
      "metadata": {
        "id": "E4bRRrz_5vlp"
      },
      "source": [
        "### KMeans Elbow Method\n",
        "\n",
        "To determine the optimal number of clusters, we employ the Elbow Method. This method is to find a number of clusters *k* such that increasing the value of *k* results in diminishing returns of loss reduction."
      ]
    },
    {
      "cell_type": "code",
      "metadata": {
        "id": "4AL6w5nuTpVx",
        "outputId": "8e616222-1878-481d-8007-76887e042edc",
        "colab": {
          "base_uri": "https://localhost:8080/",
          "height": 312
        }
      },
      "source": [
        "ssqd = []\n",
        "K = range(1, 75, 1)\n",
        "\n",
        "for k in K:\n",
        "    kmeans_model = KMeans(n_clusters=k,\n",
        "                  init='k-means++', \n",
        "                  max_iter=1000,\n",
        "                  n_init=1)\n",
        "    iter = kmeans_model.fit(comment_embeddings)\n",
        "    print(f\"\\rClusters: {k} \\tFinal Loss:{iter.inertia_:.4f}\", end=\"\")\n",
        "    ssqd.append(iter.inertia_)\n",
        "  \n",
        "plt.plot(K, ssqd, 'r-')\n",
        "plt.title('KMeans Clustering Elbow Method')\n",
        "plt.xlabel('k (Cluster Count)')\n",
        "plt.ylabel('Final Loss (Inertia)')\n",
        "plt.show()"
      ],
      "execution_count": 17,
      "outputs": [
        {
          "output_type": "stream",
          "text": [
            "Clusters: 74 \tFinal Loss:41454.6589"
          ],
          "name": "stdout"
        },
        {
          "output_type": "display_data",
          "data": {
            "image/png": "[encoded data removed]",
            "text/plain": [
              "<Figure size 432x288 with 1 Axes>"
            ]
          },
          "metadata": {
            "tags": [],
            "needs_background": "light"
          }
        }
      ]
    },
    {
      "cell_type": "code",
      "metadata": {
        "id": "VoyHLVDoT6AX",
        "outputId": "feb7c62f-45c6-4245-e9b7-359fc3edd170",
        "colab": {
          "base_uri": "https://localhost:8080/"
        }
      },
      "source": [
        "k_min = 15\n",
        "kmeans_model = KMeans(n_clusters=k_min,\n",
        "               init='k-means++', \n",
        "               max_iter=100,\n",
        "               n_init=1)\n",
        "kmeans_model.fit(comment_embeddings)"
      ],
      "execution_count": 18,
      "outputs": [
        {
          "output_type": "execute_result",
          "data": {
            "text/plain": [
              "KMeans(algorithm='auto', copy_x=True, init='k-means++', max_iter=100,\n",
              "       n_clusters=15, n_init=1, n_jobs=None, precompute_distances='auto',\n",
              "       random_state=None, tol=0.0001, verbose=0)"
            ]
          },
          "metadata": {
            "tags": []
          },
          "execution_count": 18
        }
      ]
    },
    {
      "cell_type": "markdown",
      "metadata": {
        "id": "J5c8hBV48fn_"
      },
      "source": [
        "### Cluster Assignment vs Sarcastic Label\n",
        "\n",
        "Lastly, we choose to draw a comparison between our unsupervised learning algorithms and the label data corresponding to each comment. For all the clusters, we find that there is no defining way to seperate sarcastic comments from non-sarcastic comments using this implementation."
      ]
    },
    {
      "cell_type": "code",
      "metadata": {
        "id": "PdHYePSmH1ky",
        "outputId": "69d0922b-3ab2-48af-8383-d1dd770417d9",
        "colab": {
          "base_uri": "https://localhost:8080/",
          "height": 1000
        }
      },
      "source": [
        "# fig, axs = plt.subplots(nrows=3, ncols=5)\n",
        "X, label = comment_embeddings, df['label'].values\n",
        "cluster = kmeans_model.predict(X)\n",
        "for k in range(k_min):\n",
        "  print(f\"Cluster {k}\")\n",
        "  l = label[np.where(cluster == k)]\n",
        "  print(f\"Size of cluster: {len(l)}\")\n",
        "  count0 = len(np.where(l == 0)[0])\n",
        "  count1 = len(np.where(l == 1)[0])\n",
        "  plt.pie([count0, count1], labels=[0, 1])\n",
        "  plt.show()\n"
      ],
      "execution_count": 21,
      "outputs": [
        {
          "output_type": "stream",
          "text": [
            "Cluster 0\n",
            "Size of cluster: 965\n"
          ],
          "name": "stdout"
        },
        {
          "output_type": "display_data",
          "data": {
            "image/png": "[encoded data removed]",
            "text/plain": [
              "<Figure size 432x288 with 1 Axes>"
            ]
          },
          "metadata": {
            "tags": []
          }
        },
        {
          "output_type": "stream",
          "text": [
            "Cluster 1\n",
            "Size of cluster: 1270\n"
          ],
          "name": "stdout"
        },
        {
          "output_type": "display_data",
          "data": {
            "image/png": "[encoded data removed]",
            "text/plain": [
              "<Figure size 432x288 with 1 Axes>"
            ]
          },
          "metadata": {
            "tags": []
          }
        },
        {
          "output_type": "stream",
          "text": [
            "Cluster 2\n",
            "Size of cluster: 1121\n"
          ],
          "name": "stdout"
        },
        {
          "output_type": "display_data",
          "data": {
            "image/png": "[encoded data removed]",
            "text/plain": [
              "<Figure size 432x288 with 1 Axes>"
            ]
          },
          "metadata": {
            "tags": []
          }
        },
        {
          "output_type": "stream",
          "text": [
            "Cluster 3\n",
            "Size of cluster: 934\n"
          ],
          "name": "stdout"
        },
        {
          "output_type": "display_data",
          "data": {
            "image/png": "[encoded data removed]",
            "text/plain": [
              "<Figure size 432x288 with 1 Axes>"
            ]
          },
          "metadata": {
            "tags": []
          }
        },
        {
          "output_type": "stream",
          "text": [
            "Cluster 4\n",
            "Size of cluster: 1012\n"
          ],
          "name": "stdout"
        },
        {
          "output_type": "display_data",
          "data": {
            "image/png": "[encoded data removed]",
            "text/plain": [
              "<Figure size 432x288 with 1 Axes>"
            ]
          },
          "metadata": {
            "tags": []
          }
        },
        {
          "output_type": "stream",
          "text": [
            "Cluster 5\n",
            "Size of cluster: 788\n"
          ],
          "name": "stdout"
        },
        {
          "output_type": "display_data",
          "data": {
            "image/png": "[encoded data removed]",
            "text/plain": [
              "<Figure size 432x288 with 1 Axes>"
            ]
          },
          "metadata": {
            "tags": []
          }
        },
        {
          "output_type": "stream",
          "text": [
            "Cluster 6\n",
            "Size of cluster: 943\n"
          ],
          "name": "stdout"
        },
        {
          "output_type": "display_data",
          "data": {
            "image/png": "[encoded data removed]",
            "text/plain": [
              "<Figure size 432x288 with 1 Axes>"
            ]
          },
          "metadata": {
            "tags": []
          }
        },
        {
          "output_type": "stream",
          "text": [
            "Cluster 7\n",
            "Size of cluster: 722\n"
          ],
          "name": "stdout"
        },
        {
          "output_type": "display_data",
          "data": {
            "image/png": "[encoded data removed]",
            "text/plain": [
              "<Figure size 432x288 with 1 Axes>"
            ]
          },
          "metadata": {
            "tags": []
          }
        },
        {
          "output_type": "stream",
          "text": [
            "Cluster 8\n",
            "Size of cluster: 734\n"
          ],
          "name": "stdout"
        },
        {
          "output_type": "display_data",
          "data": {
            "image/png": "[encoded data removed]",
            "text/plain": [
              "<Figure size 432x288 with 1 Axes>"
            ]
          },
          "metadata": {
            "tags": []
          }
        },
        {
          "output_type": "stream",
          "text": [
            "Cluster 9\n",
            "Size of cluster: 723\n"
          ],
          "name": "stdout"
        },
        {
          "output_type": "display_data",
          "data": {
            "image/png": "[encoded data removed]",
            "text/plain": [
              "<Figure size 432x288 with 1 Axes>"
            ]
          },
          "metadata": {
            "tags": []
          }
        },
        {
          "output_type": "stream",
          "text": [
            "Cluster 10\n",
            "Size of cluster: 585\n"
          ],
          "name": "stdout"
        },
        {
          "output_type": "display_data",
          "data": {
            "image/png": "[encoded data removed]",
            "text/plain": [
              "<Figure size 432x288 with 1 Axes>"
            ]
          },
          "metadata": {
            "tags": []
          }
        },
        {
          "output_type": "stream",
          "text": [
            "Cluster 11\n",
            "Size of cluster: 2514\n"
          ],
          "name": "stdout"
        },
        {
          "output_type": "display_data",
          "data": {
            "image/png": "[encoded data removed]",
            "text/plain": [
              "<Figure size 432x288 with 1 Axes>"
            ]
          },
          "metadata": {
            "tags": []
          }
        },
        {
          "output_type": "stream",
          "text": [
            "Cluster 12\n",
            "Size of cluster: 543\n"
          ],
          "name": "stdout"
        },
        {
          "output_type": "display_data",
          "data": {
            "image/png": "[encoded data removed]",
            "text/plain": [
              "<Figure size 432x288 with 1 Axes>"
            ]
          },
          "metadata": {
            "tags": []
          }
        },
        {
          "output_type": "stream",
          "text": [
            "Cluster 13\n",
            "Size of cluster: 1108\n"
          ],
          "name": "stdout"
        },
        {
          "output_type": "display_data",
          "data": {
            "image/png": "[encoded data removed]",
            "text/plain": [
              "<Figure size 432x288 with 1 Axes>"
            ]
          },
          "metadata": {
            "tags": []
          }
        },
        {
          "output_type": "stream",
          "text": [
            "Cluster 14\n",
            "Size of cluster: 1033\n"
          ],
          "name": "stdout"
        },
        {
          "output_type": "display_data",
          "data": {
            "image/png": "[encoded data removed]",
            "text/plain": [
              "<Figure size 432x288 with 1 Axes>"
            ]
          },
          "metadata": {
            "tags": []
          }
        }
      ]
    }
  ]
}